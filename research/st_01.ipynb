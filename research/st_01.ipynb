{
 "cells": [
  {
   "cell_type": "code",
   "execution_count": null,
   "metadata": {},
   "outputs": [],
   "source": []
  },
  {
   "cell_type": "markdown",
   "metadata": {},
   "source": [
    "## Data Ingestion"
   ]
  },
  {
   "cell_type": "markdown",
   "metadata": {},
   "source": []
  },
  {
   "cell_type": "code",
   "execution_count": 1,
   "metadata": {},
   "outputs": [],
   "source": [
    "from collections import namedtuple\n",
    "import os\n",
    "import urllib.request as request\n",
    "from zipfile import ZipFile"
   ]
  },
  {
   "cell_type": "code",
   "execution_count": 2,
   "metadata": {},
   "outputs": [],
   "source": [
    "DataIngestionConfig= namedtuple(\"DataIngestionConfig\", [\n",
    "    \"root_dir\",\n",
    "    \"source_URL\",\n",
    "    \"local_data_file\",\n",
    "    \"unzip_dir\"\n",
    "])"
   ]
  },
  {
   "cell_type": "markdown",
   "metadata": {},
   "source": [
    "#### Add Named tuple to config Manager class"
   ]
  },
  {
   "cell_type": "code",
   "execution_count": 3,
   "metadata": {},
   "outputs": [],
   "source": [
    "from deepClassifier.constants import *\n",
    "from deepClassifier.utils.common import read_yaml, create_directories"
   ]
  },
  {
   "cell_type": "code",
   "execution_count": 17,
   "metadata": {},
   "outputs": [],
   "source": [
    "class ConfigurationManager:\n",
    "    def __init__(self, config_filepath= CONFIG_FILE_PATH,\n",
    "                    params_filepath= PARAMS_FILE_PATH\n",
    "                    ):\n",
    "        self.config = read_yaml(config_filepath)\n",
    "        self.params = read_yaml(params_filepath)\n",
    "        create_directories([self.config.artifacts_root])\n",
    "    \n",
    "    ## Data ingestion config\n",
    "    def get_data_ingestion_config(self) -> DataIngestionConfig:\n",
    "        config= self.config.data_ingestion\n",
    "        ##Create root directory\n",
    "        create_directories([config.root_dir])\n",
    "        \n",
    "        data_ingestion_config= DataIngestionConfig(\n",
    "                root_dir = config.root_dir,\n",
    "                source_URL = config.source_URL,\n",
    "                local_data_file = config.local_data_file,\n",
    "                unzip_dir = config.unzip_dir\n",
    "        )\n",
    "        return data_ingestion_config"
   ]
  },
  {
   "cell_type": "markdown",
   "metadata": {},
   "source": [
    "#### Data ingestion Component"
   ]
  },
  {
   "cell_type": "code",
   "execution_count": 13,
   "metadata": {},
   "outputs": [],
   "source": [
    "class DataIngestion:\n",
    "    def __init__(self,config: DataIngestionConfig):\n",
    "        self.config = config\n",
    "    \n",
    "    ##Download file\n",
    "    def download_file(self):\n",
    "        ##If file is existing in the path\\\n",
    "        if not os.path.exists(self.config.local_data_file):\n",
    "            \n",
    "            ##Download the file\n",
    "            request.urlretrieve(url= self.config.source_URL,\n",
    "             filename = self.config.local_data_file)\n",
    "            \n",
    "    ##Getting the updated list of files\n",
    "    def _get_updated_list_of_files(self, list_of_files):\n",
    "        ## image name ends with .jpg and in the file path either Cat of Dog should be present\n",
    "        ## Which means we are considering files from Cat and Dog folder with .jpg extension\n",
    "        return [f for f in list_of_files if f.endswith(\".jpg\") and (\"Cat\" in f or \"Dog\" in f)]\n",
    "\n",
    "    ##Preprocessing of files\n",
    "    def _preprocess(self, zf:ZipFile, f:str, working_dir:str):\n",
    "        target_file_path = os.path.join(working_dir, f)\n",
    "        ##If unzip version is not extracted then only extract the files to unzip_dir\n",
    "        if not os.path.exists(target_file_path):\n",
    "            zf.extract(f, working_dir)\n",
    "        ## If file size is absent then remove\n",
    "        if os.path.getsize(target_file_path) == 0:\n",
    "            os.remove(target_file_path)\n",
    "\n",
    "    ##Un-zip the data and clean\n",
    "    def unzip_and_clean(self):\n",
    "        with ZipFile(file = self.config.local_data_file, mode= \"r\") as zf:\n",
    "            ## get the list of files\n",
    "            list_of_files = zf.namelist()\n",
    "            updated_list_of_files = self._get_updated_list_of_files(list_of_files)\n",
    "\n",
    "            for f in updated_list_of_files:\n",
    "                self._preprocess(zf, f, self.config.unzip_dir)\n",
    "\n"
   ]
  },
  {
   "cell_type": "code",
   "execution_count": 18,
   "metadata": {},
   "outputs": [
    {
     "name": "stdout",
     "output_type": "stream",
     "text": [
      "[2022-11-16 12:09:23,511: INFO: common]: yaml file: configs/config.yaml loaded successfully\n",
      "[2022-11-16 12:09:23,513: INFO: common]: yaml file: params.yaml loaded successfully\n",
      "[2022-11-16 12:09:23,514: INFO: common]: created directory at: artifacts\n",
      "[2022-11-16 12:09:23,515: INFO: common]: created directory at: artifacts/data_ingestion\n",
      "DataIngestionConfig(root_dir='artifacts/data_ingestion', source_URL='https://download.microsoft.com/download/3/E/1/3E1C3F21-ECDB-4869-8368-6DEBA77B919F/kagglecatsanddogs_5340.zip', local_data_file='artifacts/data_ingestion/data.zip', unzip_dir='artifacts/data_ingestion')\n"
     ]
    }
   ],
   "source": [
    "try:\n",
    "    config= ConfigurationManager()\n",
    "    data_ingestion_config= config.get_data_ingestion_config()\n",
    "    data_ingestion = DataIngestion(config= data_ingestion_config)\n",
    "    data_ingestion.download_file()\n",
    "    data_ingestion.unzip_and_clean()\n",
    "except Exception as e:\n",
    "    raise e"
   ]
  },
  {
   "cell_type": "code",
   "execution_count": null,
   "metadata": {},
   "outputs": [],
   "source": []
  }
 ],
 "metadata": {
  "kernelspec": {
   "display_name": "Python 3.8.13 ('deepClassifier')",
   "language": "python",
   "name": "python3"
  },
  "language_info": {
   "codemirror_mode": {
    "name": "ipython",
    "version": 3
   },
   "file_extension": ".py",
   "mimetype": "text/x-python",
   "name": "python",
   "nbconvert_exporter": "python",
   "pygments_lexer": "ipython3",
   "version": "3.9.13"
  },
  "orig_nbformat": 4,
  "vscode": {
   "interpreter": {
    "hash": "47a389a69d336e8de79c3207c0b2544475d3330d0dc020e6b85e96570b2fcc37"
   }
  }
 },
 "nbformat": 4,
 "nbformat_minor": 2
}
